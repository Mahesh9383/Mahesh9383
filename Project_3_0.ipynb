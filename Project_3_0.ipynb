{
  "nbformat": 4,
  "nbformat_minor": 0,
  "metadata": {
    "colab": {
      "name": "Project 3.0",
      "provenance": [],
      "authorship_tag": "ABX9TyM2VWYIxb2TJTIZlKje092g",
      "include_colab_link": true
    },
    "kernelspec": {
      "name": "python3",
      "display_name": "Python 3"
    },
    "language_info": {
      "name": "python"
    }
  },
  "cells": [
    {
      "cell_type": "markdown",
      "metadata": {
        "id": "view-in-github",
        "colab_type": "text"
      },
      "source": [
        "<a href=\"https://colab.research.google.com/github/Mahesh9383/Mahesh9383/blob/main/Project_3_0.ipynb\" target=\"_parent\"><img src=\"https://colab.research.google.com/assets/colab-badge.svg\" alt=\"Open In Colab\"/></a>"
      ]
    },
    {
      "cell_type": "code",
      "execution_count": 7,
      "metadata": {
        "colab": {
          "base_uri": "https://localhost:8080/"
        },
        "id": "NpPNniVNOqAH",
        "outputId": "7e7239c5-8e62-424f-d6c3-60ebace272e8"
      },
      "outputs": [
        {
          "output_type": "stream",
          "name": "stdout",
          "text": [
            "Simple Table\n",
            "Enter the number of your choice\n",
            "56446465\n",
            "********************\n",
            "56446465 x 1 = 56446465\n",
            "********************\n",
            "56446465 x 2 = 112892930\n",
            "********************\n",
            "56446465 x 3 = 169339395\n",
            "********************\n",
            "56446465 x 4 = 225785860\n",
            "********************\n",
            "56446465 x 5 = 282232325\n",
            "********************\n",
            "56446465 x 6 = 338678790\n",
            "********************\n",
            "56446465 x 7 = 395125255\n",
            "********************\n",
            "56446465 x 8 = 451571720\n",
            "********************\n",
            "56446465 x 9 = 508018185\n",
            "********************\n",
            "56446465 x 10 = 564464650\n",
            "********************\n",
            "56446465 x 11 = 620911115\n",
            "********************\n",
            "56446465 x 12 = 677357580\n",
            "********************\n"
          ]
        }
      ],
      "source": [
        "print(\"Simple Table\")\n",
        "num = int(input(\"Enter the number of your choice\\n\"))\n",
        "print(\"*\"*20)\n",
        "multiple = 1\n",
        "while (multiple<=12):\n",
        "  print(num,\"x\",multiple,\"=\",multiple*num)\n",
        "  multiple=multiple+1\n",
        "  print(\"*\"*20)\n"
      ]
    }
  ]
}