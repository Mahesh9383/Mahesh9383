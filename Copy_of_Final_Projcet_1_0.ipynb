{
  "nbformat": 4,
  "nbformat_minor": 0,
  "metadata": {
    "colab": {
      "name": "Copy of  Final Projcet 1.0",
      "provenance": [],
      "authorship_tag": "ABX9TyN45YMt8KOMlSOBpG6ajr+u",
      "include_colab_link": true
    },
    "kernelspec": {
      "name": "python3",
      "display_name": "Python 3"
    },
    "language_info": {
      "name": "python"
    }
  },
  "cells": [
    {
      "cell_type": "markdown",
      "metadata": {
        "id": "view-in-github",
        "colab_type": "text"
      },
      "source": [
        "<a href=\"https://colab.research.google.com/github/Mahesh9383/Mahesh9383/blob/main/Copy_of_Final_Projcet_1_0.ipynb\" target=\"_parent\"><img src=\"https://colab.research.google.com/assets/colab-badge.svg\" alt=\"Open In Colab\"/></a>"
      ]
    },
    {
      "cell_type": "markdown",
      "source": [
        "#**Studennt Portfolio**"
      ],
      "metadata": {
        "id": "dadZJQ1jpQgl"
      }
    },
    {
      "cell_type": "code",
      "source": [
        "FirstName= str(input(\"Enter your FirstName \\n\"))\n",
        "LastName=str(input(\"Enter your LastName \\n\"))\n",
        "std=int(input(\"Enter your Class \\n\"))\n",
        "division=str(input(\"Enter your division \\n\"))\n",
        "rollNo=str(input(\"Enter your RollNo:\\n\"))\n",
        "sub1=str(input(\"Enter your subject1\\n\"))\n",
        "sub2=str(input(\"Enter your subject2\\n\"))\n",
        "sub3=str(input(\"Enter your subject3\\n\"))\n",
        "studentPercent=float(input(\"'Enter Percentage\\n\"))"
      ],
      "metadata": {
        "colab": {
          "base_uri": "https://localhost:8080/"
        },
        "id": "EUXsJoVxpYi5",
        "outputId": "119494d7-14a8-437f-f687-24815dd84f87"
      },
      "execution_count": null,
      "outputs": [
        {
          "name": "stdout",
          "output_type": "stream",
          "text": [
            "Enter your FirstName \n",
            "Mahesh\n",
            "Enter your LastName \n",
            "Gejage\n",
            "Enter your Class \n",
            "12\n",
            "Enter your division \n",
            "a\n",
            "Enter your RollNo:\n",
            "15\n",
            "Enter your subject1\n",
            "maths\n",
            "Enter your subject2\n",
            "physics\n",
            "Enter your subject3\n",
            "Bio\n",
            "'Enter Percentage\n",
            "78\n"
          ]
        }
      ]
    },
    {
      "cell_type": "code",
      "source": [
        "print(\"Student Details\")\n",
        "print(\"\\n\"+\"*\"*15+\"\\n\")\n",
        "print(\"The First Name Of the Student is : \"+ name)\n",
        "print(\"The Last Name of the Student is : \"+ name)\n",
        "print(\"Hello\"+ FirstName.upper()+\"  \" + LastName.upper())\n",
        "\n",
        "print(\"\\n\"+\"*\"*10+\"\\n\")\n",
        "print(name.upper()+\"nis in  \"+str(std),\" Class & \"+division.upper()+\" Division.\")\n",
        "print(\"Roll No :\"+str(rollNo))\n",
        "print(name.upper()+\" chosen the below 3 Subjects \")\n",
        "\n",
        "print(\"subject 1 :\"+sub1)\n",
        "print(\"subject 2 :\"+sub2)\n",
        "print(\"subject 3 :\"+sub3)\n",
        "print(name.upper()+\" has scored \"+str(studentPercent)+\" in the Final Exam\")\n",
        "\n",
        "print(\"\\n\"+\"*\"*10+\"\\n\")\n",
        "print(\"Congratulations & Have a successful year ahead\")\n",
        "print(\"\\n\"+\"*\"*10)"
      ],
      "metadata": {
        "colab": {
          "base_uri": "https://localhost:8080/"
        },
        "id": "F_r4M9GsraZM",
        "outputId": "f7a3afb2-1285-4e26-e8ec-05715ad86d8c"
      },
      "execution_count": null,
      "outputs": [
        {
          "output_type": "stream",
          "name": "stdout",
          "text": [
            "Student Details\n",
            "\n",
            "***************\n",
            "\n",
            "The First Name Of the Student is : Mahesh\n",
            "The Last Name of the Student is : Mahesh\n",
            "HelloMAHESH  GEJAGE\n",
            "\n",
            "**********\n",
            "\n",
            "MAHESHnis in  12  Class & A Division.\n",
            "Roll No :15\n",
            "MAHESH chosen the below 3 Subjects \n",
            "subject 1 :maths\n",
            "subject 2 :physics\n",
            "subject 3 :Bio\n",
            "MAHESH has scored 78.0 in the Final Exam\n",
            "\n",
            "**********\n",
            "\n",
            "Congratulations & Have a successful year ahead\n",
            "\n",
            "**********\n"
          ]
        }
      ]
    },
    {
      "cell_type": "markdown",
      "source": [
        ""
      ],
      "metadata": {
        "id": "xjh8Ov6pHCiL"
      }
    },
    {
      "cell_type": "code",
      "source": [
        "print(\"*\"20)"
      ],
      "metadata": {
        "colab": {
          "base_uri": "https://localhost:8080/",
          "height": 130
        },
        "id": "rlQN-eSkHDap",
        "outputId": "36183e8a-8d8c-4156-aba0-972ca0965fdc"
      },
      "execution_count": null,
      "outputs": [
        {
          "output_type": "error",
          "ename": "SyntaxError",
          "evalue": "ignored",
          "traceback": [
            "\u001b[0;36m  File \u001b[0;32m\"<ipython-input-1-12495a36f428>\"\u001b[0;36m, line \u001b[0;32m1\u001b[0m\n\u001b[0;31m    print(\"*\"20)\u001b[0m\n\u001b[0m              ^\u001b[0m\n\u001b[0;31mSyntaxError\u001b[0m\u001b[0;31m:\u001b[0m invalid syntax\n"
          ]
        }
      ]
    },
    {
      "cell_type": "code",
      "source": [
        "print(\"*\"+str(\"20\"))"
      ],
      "metadata": {
        "colab": {
          "base_uri": "https://localhost:8080/"
        },
        "id": "MGOPDHU_HaSK",
        "outputId": "d91f9c92-087b-49c8-d1a8-f50abed923aa"
      },
      "execution_count": null,
      "outputs": [
        {
          "output_type": "stream",
          "name": "stdout",
          "text": [
            "*20\n"
          ]
        }
      ]
    },
    {
      "cell_type": "code",
      "source": [
        "print(\"*\",20)    # for printing str and int \",\" can also used"
      ],
      "metadata": {
        "colab": {
          "base_uri": "https://localhost:8080/"
        },
        "id": "XLvz9uIiH20X",
        "outputId": "d2635d5c-2421-4b09-f1f5-b7eb656d69ab"
      },
      "execution_count": null,
      "outputs": [
        {
          "output_type": "stream",
          "name": "stdout",
          "text": [
            "* 20\n"
          ]
        }
      ]
    },
    {
      "cell_type": "markdown",
      "source": [
        "#**Formating strings**"
      ],
      "metadata": {
        "id": "zOuyhO_jIntb"
      }
    },
    {
      "cell_type": "code",
      "source": [
        "name=\"college\"\n",
        "print(\"The name is \"+name)\n"
      ],
      "metadata": {
        "colab": {
          "base_uri": "https://localhost:8080/"
        },
        "id": "i0i4us7hIusf",
        "outputId": "55f8543b-f1dd-4b1b-e272-6eb713762e73"
      },
      "execution_count": null,
      "outputs": [
        {
          "output_type": "stream",
          "name": "stdout",
          "text": [
            "The name is college\n"
          ]
        }
      ]
    },
    {
      "cell_type": "code",
      "source": [
        "print(\"The name is {name}. Hello {name},how are you\".format(name=name))"
      ],
      "metadata": {
        "colab": {
          "base_uri": "https://localhost:8080/"
        },
        "id": "0Pvqg7PFJBp2",
        "outputId": "28d913cc-268c-45f6-a1d0-38dae7aa7149"
      },
      "execution_count": null,
      "outputs": [
        {
          "output_type": "stream",
          "name": "stdout",
          "text": [
            "The name is college. Hello college,how are you\n"
          ]
        }
      ]
    },
    {
      "cell_type": "code",
      "source": [
        ""
      ],
      "metadata": {
        "id": "E5GzST_IJxnC"
      },
      "execution_count": null,
      "outputs": []
    }
  ]
}