{
  "nbformat": 4,
  "nbformat_minor": 0,
  "metadata": {
    "colab": {
      "name": "Slicing  a list  Complete Assingment",
      "provenance": [],
      "authorship_tag": "ABX9TyOdefwQBoOFpjGLigYTdLRC",
      "include_colab_link": true
    },
    "kernelspec": {
      "name": "python3",
      "display_name": "Python 3"
    },
    "language_info": {
      "name": "python"
    }
  },
  "cells": [
    {
      "cell_type": "markdown",
      "metadata": {
        "id": "view-in-github",
        "colab_type": "text"
      },
      "source": [
        "<a href=\"https://colab.research.google.com/github/Mahesh9383/Mahesh9383/blob/main/Slicing_a_list_Complete_Assingment.ipynb\" target=\"_parent\"><img src=\"https://colab.research.google.com/assets/colab-badge.svg\" alt=\"Open In Colab\"/></a>"
      ]
    },
    {
      "cell_type": "markdown",
      "source": [
        ""
      ],
      "metadata": {
        "id": "On-LqcRnnV6w"
      }
    },
    {
      "cell_type": "markdown",
      "source": [
        "#**List**"
      ],
      "metadata": {
        "id": "HHW9zB3YL4Oy"
      }
    },
    {
      "cell_type": "code",
      "source": [
        "List1=[\"a\",\"b\",\"c\",\"d\"]\n",
        "print(List1)"
      ],
      "metadata": {
        "colab": {
          "base_uri": "https://localhost:8080/"
        },
        "id": "UTYBWN21L-oC",
        "outputId": "e49e6571-5e8f-42bc-a8d3-78bd615803a4"
      },
      "execution_count": 5,
      "outputs": [
        {
          "output_type": "stream",
          "name": "stdout",
          "text": [
            "['a', 'b', 'c', 'd']\n"
          ]
        }
      ]
    },
    {
      "cell_type": "code",
      "source": [
        "print(type(List1))"
      ],
      "metadata": {
        "colab": {
          "base_uri": "https://localhost:8080/"
        },
        "id": "pxYRKQUHMtv9",
        "outputId": "bb16c785-7e13-4b6e-fbb0-4daf30ca3272"
      },
      "execution_count": 7,
      "outputs": [
        {
          "output_type": "stream",
          "name": "stdout",
          "text": [
            "<class 'list'>\n"
          ]
        }
      ]
    },
    {
      "cell_type": "code",
      "source": [
        "#length function\n",
        "(print(len(List1)))"
      ],
      "metadata": {
        "colab": {
          "base_uri": "https://localhost:8080/"
        },
        "id": "sHwzAFoMM9-X",
        "outputId": "e53e9684-539a-4271-a8e0-4815eb9b2471"
      },
      "execution_count": 9,
      "outputs": [
        {
          "output_type": "stream",
          "name": "stdout",
          "text": [
            "4\n"
          ]
        }
      ]
    },
    {
      "cell_type": "markdown",
      "source": [
        "#**Index in python starts from 0**"
      ],
      "metadata": {
        "id": "_TQzMUB5NzSJ"
      }
    },
    {
      "cell_type": "code",
      "source": [
        "print(List1[0])\n",
        "print(List1[3])"
      ],
      "metadata": {
        "colab": {
          "base_uri": "https://localhost:8080/"
        },
        "id": "oYvvHzFlN_-_",
        "outputId": "c913bb27-77a4-4c4b-ec08-1569ec598d79"
      },
      "execution_count": 11,
      "outputs": [
        {
          "output_type": "stream",
          "name": "stdout",
          "text": [
            "a\n",
            "d\n"
          ]
        }
      ]
    },
    {
      "cell_type": "code",
      "source": [
        "print(List1[10])"
      ],
      "metadata": {
        "colab": {
          "base_uri": "https://localhost:8080/",
          "height": 165
        },
        "id": "Mv5tmhguOYeP",
        "outputId": "bdcf62cc-e5dc-4ff8-ebd0-60767872671f"
      },
      "execution_count": 12,
      "outputs": [
        {
          "output_type": "error",
          "ename": "IndexError",
          "evalue": "ignored",
          "traceback": [
            "\u001b[0;31m---------------------------------------------------------------------------\u001b[0m",
            "\u001b[0;31mIndexError\u001b[0m                                Traceback (most recent call last)",
            "\u001b[0;32m<ipython-input-12-849b651863af>\u001b[0m in \u001b[0;36m<module>\u001b[0;34m()\u001b[0m\n\u001b[0;32m----> 1\u001b[0;31m \u001b[0mprint\u001b[0m\u001b[0;34m(\u001b[0m\u001b[0mList1\u001b[0m\u001b[0;34m[\u001b[0m\u001b[0;36m10\u001b[0m\u001b[0;34m]\u001b[0m\u001b[0;34m)\u001b[0m\u001b[0;34m\u001b[0m\u001b[0;34m\u001b[0m\u001b[0m\n\u001b[0m",
            "\u001b[0;31mIndexError\u001b[0m: list index out of range"
          ]
        }
      ]
    },
    {
      "cell_type": "markdown",
      "source": [
        "#**Slicing Lis**t"
      ],
      "metadata": {
        "id": "EljUzwyqO190"
      }
    },
    {
      "cell_type": "code",
      "source": [
        "print(List1[0])   #just 1 element"
      ],
      "metadata": {
        "colab": {
          "base_uri": "https://localhost:8080/"
        },
        "id": "oxN4Tp29PGwX",
        "outputId": "f9f1f707-1f2d-4940-bad6-72cc36fb2fa1"
      },
      "execution_count": 13,
      "outputs": [
        {
          "output_type": "stream",
          "name": "stdout",
          "text": [
            "a\n"
          ]
        }
      ]
    },
    {
      "cell_type": "code",
      "source": [
        "print(List1[0],List1[1],List1[2])"
      ],
      "metadata": {
        "colab": {
          "base_uri": "https://localhost:8080/"
        },
        "id": "wO1U_v1WPU4m",
        "outputId": "97cffcd6-556e-487f-d736-4dde2aaffef3"
      },
      "execution_count": 15,
      "outputs": [
        {
          "output_type": "stream",
          "name": "stdout",
          "text": [
            "a b c\n"
          ]
        }
      ]
    },
    {
      "cell_type": "code",
      "source": [
        "print(List1[0 :3])"
      ],
      "metadata": {
        "colab": {
          "base_uri": "https://localhost:8080/"
        },
        "id": "IpuUnjzPPvA3",
        "outputId": "7c1f38bb-fdfc-40fe-9d07-e70e4a29e738"
      },
      "execution_count": 19,
      "outputs": [
        {
          "output_type": "stream",
          "name": "stdout",
          "text": [
            "['a', 'b', 'c']\n"
          ]
        }
      ]
    },
    {
      "cell_type": "code",
      "source": [
        "print(List1[0:10])"
      ],
      "metadata": {
        "colab": {
          "base_uri": "https://localhost:8080/"
        },
        "id": "PfhM8hH7QC80",
        "outputId": "987579fe-8ccf-4db3-8233-0afd1ca2a28a"
      },
      "execution_count": 22,
      "outputs": [
        {
          "output_type": "stream",
          "name": "stdout",
          "text": [
            "['a', 'b', 'c', 'd']\n"
          ]
        }
      ]
    },
    {
      "cell_type": "code",
      "source": [
        "print(List1[1:4])   #printing the elements from the list ranging from 1 to 4"
      ],
      "metadata": {
        "colab": {
          "base_uri": "https://localhost:8080/"
        },
        "id": "wz4pEuWPQpjy",
        "outputId": "392c7511-8a1c-4f18-9983-9edf8af8bca0"
      },
      "execution_count": 24,
      "outputs": [
        {
          "output_type": "stream",
          "name": "stdout",
          "text": [
            "['b', 'c', 'd']\n"
          ]
        }
      ]
    },
    {
      "cell_type": "code",
      "source": [
        "print(List1[0:4:1])"
      ],
      "metadata": {
        "colab": {
          "base_uri": "https://localhost:8080/"
        },
        "id": "YOHphtbIRBDW",
        "outputId": "244af761-23c6-4c9e-9c54-0716b4f53c7c"
      },
      "execution_count": 25,
      "outputs": [
        {
          "output_type": "stream",
          "name": "stdout",
          "text": [
            "['a', 'b', 'c', 'd']\n"
          ]
        }
      ]
    },
    {
      "cell_type": "code",
      "source": [
        "print(List1[0:4:2])    #step method"
      ],
      "metadata": {
        "colab": {
          "base_uri": "https://localhost:8080/"
        },
        "id": "5svB6uZBSQ1t",
        "outputId": "0156b43f-4399-41f5-c64a-a0db8e4af880"
      },
      "execution_count": 26,
      "outputs": [
        {
          "output_type": "stream",
          "name": "stdout",
          "text": [
            "['a', 'c']\n"
          ]
        }
      ]
    },
    {
      "cell_type": "code",
      "source": [
        "print(List1[0:4:3])"
      ],
      "metadata": {
        "colab": {
          "base_uri": "https://localhost:8080/"
        },
        "id": "8X25F1eIScrg",
        "outputId": "9e3930df-d14d-4588-a8df-0937bd3a90da"
      },
      "execution_count": 27,
      "outputs": [
        {
          "output_type": "stream",
          "name": "stdout",
          "text": [
            "['a', 'd']\n"
          ]
        }
      ]
    },
    {
      "cell_type": "code",
      "source": [
        "List2= [1,2,3,4,5,6,7,8,9,10]\n",
        "print(List2)"
      ],
      "metadata": {
        "colab": {
          "base_uri": "https://localhost:8080/"
        },
        "id": "mhCwRywxSqje",
        "outputId": "82ea1d84-b284-4c5f-edf7-70c22495bfa8"
      },
      "execution_count": 31,
      "outputs": [
        {
          "output_type": "stream",
          "name": "stdout",
          "text": [
            "[1, 2, 3, 4, 5, 6, 7, 8, 9, 10]\n"
          ]
        }
      ]
    },
    {
      "cell_type": "code",
      "source": [
        "print(type(List2))\n",
        "print(len(List2))"
      ],
      "metadata": {
        "colab": {
          "base_uri": "https://localhost:8080/"
        },
        "id": "Us2D8Pt3TIt7",
        "outputId": "806fa59d-d601-4110-d117-0d58138ecdc5"
      },
      "execution_count": 32,
      "outputs": [
        {
          "output_type": "stream",
          "name": "stdout",
          "text": [
            "<class 'list'>\n",
            "10\n"
          ]
        }
      ]
    },
    {
      "cell_type": "code",
      "source": [
        "print(List2[1])    #printing index 1 not the element"
      ],
      "metadata": {
        "colab": {
          "base_uri": "https://localhost:8080/"
        },
        "id": "9V8kmV9hTZ81",
        "outputId": "529a0207-d775-4f7f-e5af-4925a5d633de"
      },
      "execution_count": 33,
      "outputs": [
        {
          "output_type": "stream",
          "name": "stdout",
          "text": [
            "2\n"
          ]
        }
      ]
    },
    {
      "cell_type": "code",
      "source": [
        "print(List2[0:10:2])    #odd numbers"
      ],
      "metadata": {
        "colab": {
          "base_uri": "https://localhost:8080/"
        },
        "id": "IxbXhKEETnsW",
        "outputId": "0692a9ce-17fb-40d0-c182-e74de6ef105c"
      },
      "execution_count": 35,
      "outputs": [
        {
          "output_type": "stream",
          "name": "stdout",
          "text": [
            "[1, 3, 5, 7, 9]\n"
          ]
        }
      ]
    },
    {
      "cell_type": "code",
      "source": [
        "List3=[\"COLLEGE\",\"FINDER\",\"KAUSTUBH\",\"PYTHON\"]"
      ],
      "metadata": {
        "id": "sIgli_OKT4q3"
      },
      "execution_count": 36,
      "outputs": []
    },
    {
      "cell_type": "code",
      "source": [
        "print(List3[0:2])"
      ],
      "metadata": {
        "colab": {
          "base_uri": "https://localhost:8080/"
        },
        "id": "R149mQs4UdbG",
        "outputId": "58a48877-3826-4547-81a7-9b0cdfb53069"
      },
      "execution_count": 38,
      "outputs": [
        {
          "output_type": "stream",
          "name": "stdout",
          "text": [
            "['COLLEGE', 'FINDER']\n"
          ]
        }
      ]
    },
    {
      "cell_type": "code",
      "source": [
        "#list can have strings ,int, floats, bool. Still the all are individual element."
      ],
      "metadata": {
        "id": "l6kGaLWdUwUH"
      },
      "execution_count": 39,
      "outputs": []
    },
    {
      "cell_type": "code",
      "source": [
        "mixed=[\"NAME\",985455,99.99,True]\n",
        "print(type(mixed))"
      ],
      "metadata": {
        "colab": {
          "base_uri": "https://localhost:8080/"
        },
        "id": "i2G4q96OVJ-r",
        "outputId": "19f97b3e-f86f-494c-c180-e69f7a92f45e"
      },
      "execution_count": 41,
      "outputs": [
        {
          "output_type": "stream",
          "name": "stdout",
          "text": [
            "<class 'list'>\n"
          ]
        }
      ]
    },
    {
      "cell_type": "markdown",
      "source": [
        "Apply slicing function onto a list "
      ],
      "metadata": {
        "id": "RnMzwNUWV7F2"
      }
    },
    {
      "cell_type": "markdown",
      "source": [
        "#**List functions**"
      ],
      "metadata": {
        "id": "btHsAB1vWb5k"
      }
    },
    {
      "cell_type": "code",
      "source": [
        "List4=[\"COLLEGE\",\"FINDER\",9096578963,99.99,True]"
      ],
      "metadata": {
        "id": "bj6jOJnHWuqS"
      },
      "execution_count": 89,
      "outputs": []
    },
    {
      "cell_type": "code",
      "source": [
        "List4.append(\"BEST\")\n",
        "print(List4)"
      ],
      "metadata": {
        "colab": {
          "base_uri": "https://localhost:8080/"
        },
        "id": "i-qyJ7lheEkw",
        "outputId": "74731b79-72c5-4e06-8ef0-8d82604f0a92"
      },
      "execution_count": 93,
      "outputs": [
        {
          "output_type": "stream",
          "name": "stdout",
          "text": [
            "['COLLEGE', 'FINDER', 9096578963, 99.99, True, 'BEST', 'BEST', 'BEST', 'BEST']\n"
          ]
        }
      ]
    },
    {
      "cell_type": "code",
      "source": [
        "List4.remove(9096578963)     #removing specific element\n",
        "print(List4)"
      ],
      "metadata": {
        "colab": {
          "base_uri": "https://localhost:8080/"
        },
        "id": "muwh3pBkaC-m",
        "outputId": "74f7fa0c-c5ed-454d-84ec-c5b39b770ef5"
      },
      "execution_count": 94,
      "outputs": [
        {
          "output_type": "stream",
          "name": "stdout",
          "text": [
            "['COLLEGE', 'FINDER', 99.99, True, 'BEST', 'BEST', 'BEST', 'BEST']\n"
          ]
        }
      ]
    },
    {
      "cell_type": "code",
      "source": [
        "List4.insert(2,9096578963)    #inserting an element into a specifc place \n",
        "print(List4)"
      ],
      "metadata": {
        "colab": {
          "base_uri": "https://localhost:8080/"
        },
        "id": "yeRUEY0Acdo4",
        "outputId": "f55ed070-bc22-4a07-b9fe-13a8e8958465"
      },
      "execution_count": 96,
      "outputs": [
        {
          "output_type": "stream",
          "name": "stdout",
          "text": [
            "['COLLEGE', 'FINDER', 9096578963, 99.99, True, 'BEST', 'BEST', 'BEST', 'BEST']\n"
          ]
        }
      ]
    },
    {
      "cell_type": "code",
      "source": [
        "List5=[\"a\",\"b\",\"c\",\"d\"]\n",
        "List6=[1,2,3,4]\n",
        "List7=List5+List6\n",
        "print(List7)"
      ],
      "metadata": {
        "colab": {
          "base_uri": "https://localhost:8080/"
        },
        "id": "FkBlA0sye06x",
        "outputId": "9760606f-c5d1-4aba-d970-ac8d5e022419"
      },
      "execution_count": 97,
      "outputs": [
        {
          "output_type": "stream",
          "name": "stdout",
          "text": [
            "['a', 'b', 'c', 'd', 1, 2, 3, 4]\n"
          ]
        }
      ]
    },
    {
      "cell_type": "markdown",
      "source": [
        "#**Slicing a string**"
      ],
      "metadata": {
        "id": "yQ9MDFQBgf05"
      }
    },
    {
      "cell_type": "code",
      "source": [
        "nameOfInst= \"College Finder is the name of an institute\"\n",
        "print(nameOfInst)"
      ],
      "metadata": {
        "colab": {
          "base_uri": "https://localhost:8080/"
        },
        "id": "j2lFHGOdgm_U",
        "outputId": "1eacafe7-90df-46a8-9a4f-4f595b413608"
      },
      "execution_count": 103,
      "outputs": [
        {
          "output_type": "stream",
          "name": "stdout",
          "text": [
            "College Finder is the name of an institute\n"
          ]
        }
      ]
    },
    {
      "cell_type": "code",
      "source": [
        "print(len(nameOfInst))\n",
        "print(nameOfInst[0:10])"
      ],
      "metadata": {
        "colab": {
          "base_uri": "https://localhost:8080/"
        },
        "id": "x7Aszvq-g_Pi",
        "outputId": "3921bf99-dd47-45be-c6ee-fa4d66d17ff2"
      },
      "execution_count": 104,
      "outputs": [
        {
          "output_type": "stream",
          "name": "stdout",
          "text": [
            "42\n",
            "College Fi\n"
          ]
        }
      ]
    },
    {
      "cell_type": "code",
      "source": [
        "print(nameOfInst[0:42:2])   #using step method "
      ],
      "metadata": {
        "colab": {
          "base_uri": "https://localhost:8080/"
        },
        "id": "hHB_ZkJuiJ-X",
        "outputId": "aed38d00-b697-42ee-ff64-2ece0896a2c0"
      },
      "execution_count": 106,
      "outputs": [
        {
          "output_type": "stream",
          "name": "stdout",
          "text": [
            "CleeFne stenm fa nttt\n"
          ]
        }
      ]
    },
    {
      "cell_type": "code",
      "source": [
        ""
      ],
      "metadata": {
        "id": "bkScAZsiiqMt"
      },
      "execution_count": null,
      "outputs": []
    },
    {
      "cell_type": "code",
      "source": [
        ""
      ],
      "metadata": {
        "id": "Pnr5vAKsiqck"
      },
      "execution_count": null,
      "outputs": []
    },
    {
      "cell_type": "markdown",
      "source": [
        "#**Negative slicing**"
      ],
      "metadata": {
        "id": "xhSGFjRcirfP"
      }
    },
    {
      "cell_type": "code",
      "source": [
        "print(nameOfInst[-1])     "
      ],
      "metadata": {
        "colab": {
          "base_uri": "https://localhost:8080/"
        },
        "id": "R6sRjfH8iypi",
        "outputId": "bb17ac3c-ca16-4a63-8cee-bae55973926b"
      },
      "execution_count": 107,
      "outputs": [
        {
          "output_type": "stream",
          "name": "stdout",
          "text": [
            "e\n"
          ]
        }
      ]
    },
    {
      "cell_type": "code",
      "source": [
        "### negative slicing ranges from -1 to ....."
      ],
      "metadata": {
        "id": "NtWYkVIxjDP3"
      },
      "execution_count": 108,
      "outputs": []
    },
    {
      "cell_type": "code",
      "source": [
        "print(nameOfInst[-1:-30])"
      ],
      "metadata": {
        "colab": {
          "base_uri": "https://localhost:8080/"
        },
        "id": "6U_G0qBzjN2K",
        "outputId": "0000cf2d-9132-4875-cb76-fb0b73bd3104"
      },
      "execution_count": 110,
      "outputs": [
        {
          "output_type": "stream",
          "name": "stdout",
          "text": [
            "\n"
          ]
        }
      ]
    },
    {
      "cell_type": "code",
      "source": [
        "print(nameOfInst[0:-2])"
      ],
      "metadata": {
        "colab": {
          "base_uri": "https://localhost:8080/"
        },
        "id": "RMA1XiJ4je8h",
        "outputId": "ae4f7a46-9c48-462e-bbac-26581ca51478"
      },
      "execution_count": 111,
      "outputs": [
        {
          "output_type": "stream",
          "name": "stdout",
          "text": [
            "College Finder is the name of an institu\n"
          ]
        }
      ]
    },
    {
      "cell_type": "code",
      "source": [
        ""
      ],
      "metadata": {
        "id": "Qu4J2wKmjplh"
      },
      "execution_count": null,
      "outputs": []
    }
  ]
}