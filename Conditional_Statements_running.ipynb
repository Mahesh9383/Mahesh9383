{
  "nbformat": 4,
  "nbformat_minor": 0,
  "metadata": {
    "colab": {
      "name": "Conditional Statements- running",
      "provenance": [],
      "collapsed_sections": [],
      "authorship_tag": "ABX9TyPMf5foB+tm3uwaWJARTp2T",
      "include_colab_link": true
    },
    "kernelspec": {
      "name": "python3",
      "display_name": "Python 3"
    },
    "language_info": {
      "name": "python"
    }
  },
  "cells": [
    {
      "cell_type": "markdown",
      "metadata": {
        "id": "view-in-github",
        "colab_type": "text"
      },
      "source": [
        "<a href=\"https://colab.research.google.com/github/Mahesh9383/Mahesh9383/blob/main/Conditional_Statements_running.ipynb\" target=\"_parent\"><img src=\"https://colab.research.google.com/assets/colab-badge.svg\" alt=\"Open In Colab\"/></a>"
      ]
    },
    {
      "cell_type": "markdown",
      "source": [
        "#**Simple Conditional Statements**"
      ],
      "metadata": {
        "id": "zKEp0LuclLI_"
      }
    },
    {
      "cell_type": "code",
      "source": [
        "a=5\n",
        "if(a==5):\n",
        "  print(\"correct\")"
      ],
      "metadata": {
        "colab": {
          "base_uri": "https://localhost:8080/"
        },
        "id": "b5vQZp4Jmhy7",
        "outputId": "579285b3-71e3-44b0-f5fc-0d11512e3958"
      },
      "execution_count": 1,
      "outputs": [
        {
          "output_type": "stream",
          "name": "stdout",
          "text": [
            "correct\n"
          ]
        }
      ]
    },
    {
      "cell_type": "code",
      "source": [
        "#without indentation.\n",
        "if(a==6):\n",
        "print(\"correct\")    #Tip 5: use tab kay for indent.    "
      ],
      "metadata": {
        "colab": {
          "base_uri": "https://localhost:8080/",
          "height": 130
        },
        "id": "XUv5gI1HmIF0",
        "outputId": "40644da3-f6c8-46c1-c8d9-fea50dd94c60"
      },
      "execution_count": 7,
      "outputs": [
        {
          "output_type": "error",
          "ename": "IndentationError",
          "evalue": "ignored",
          "traceback": [
            "\u001b[0;36m  File \u001b[0;32m\"<ipython-input-7-841650aae956>\"\u001b[0;36m, line \u001b[0;32m2\u001b[0m\n\u001b[0;31m    print(\"correct\")    #Tip 5: use tab kay for indent.\u001b[0m\n\u001b[0m        ^\u001b[0m\n\u001b[0;31mIndentationError\u001b[0m\u001b[0;31m:\u001b[0m expected an indented block\n"
          ]
        }
      ]
    },
    {
      "cell_type": "code",
      "source": [
        "b=2\n",
        "if(b==1):\n",
        "  print(\"incorrect\")\n",
        "else:\n",
        "  print(\"correct\")  \n"
      ],
      "metadata": {
        "colab": {
          "base_uri": "https://localhost:8080/"
        },
        "id": "-4hqRXKtn5j4",
        "outputId": "eba6cec9-57fd-4e97-82b9-04e9eaa669b3"
      },
      "execution_count": 23,
      "outputs": [
        {
          "output_type": "stream",
          "name": "stdout",
          "text": [
            "correct\n"
          ]
        }
      ]
    },
    {
      "cell_type": "code",
      "source": [
        "a=5\n",
        "b=2\n",
        "if (a>b):\n",
        "  print(\"A is greater then B\")\n",
        "else:\n",
        "  print(\"B is greater than A\")"
      ],
      "metadata": {
        "colab": {
          "base_uri": "https://localhost:8080/"
        },
        "id": "RLoNFWJ4rHMN",
        "outputId": "c7485b2c-817b-44a5-fbdf-9ffea1da1506"
      },
      "execution_count": 24,
      "outputs": [
        {
          "output_type": "stream",
          "name": "stdout",
          "text": [
            "A is greater then B\n"
          ]
        }
      ]
    },
    {
      "cell_type": "code",
      "source": [
        "c=5\n",
        "d=6\n",
        "if(c>=d):\n",
        "  print(\"correct\")\n",
        "else:\n",
        "  print(\"incorrect\")"
      ],
      "metadata": {
        "colab": {
          "base_uri": "https://localhost:8080/"
        },
        "id": "_La4Srflrj-2",
        "outputId": "d7d71adb-b579-4dd4-acb2-f8fc94432611"
      },
      "execution_count": 25,
      "outputs": [
        {
          "output_type": "stream",
          "name": "stdout",
          "text": [
            "incorrect\n"
          ]
        }
      ]
    },
    {
      "cell_type": "markdown",
      "source": [
        "#**Introducing elif condition**"
      ],
      "metadata": {
        "id": "yarOypzgsM_z"
      }
    },
    {
      "cell_type": "code",
      "source": [
        "e=10\n",
        "if(e==10):\n",
        "  print(\"correct\")\n",
        "elif (e==8):            #else if : elif is used or skipping the conditional check, if stastisfied\n",
        "  print(\"correct\")\n",
        "else:\n",
        "  print(\"correct\")"
      ],
      "metadata": {
        "colab": {
          "base_uri": "https://localhost:8080/"
        },
        "id": "f520Y7NYsaAQ",
        "outputId": "d9cce401-0f94-4add-a8ee-7350565e804c"
      },
      "execution_count": 28,
      "outputs": [
        {
          "output_type": "stream",
          "name": "stdout",
          "text": [
            "correct\n"
          ]
        }
      ]
    },
    {
      "cell_type": "code",
      "source": [
        "num1 = 10\n",
        "num2=5\n",
        "if(num2>=num1):\n",
        "  print(\"Num2 is greter than num1\")\n",
        "elif(num1==num2):\n",
        "  print(\"Num1 and Num2 are equal\")\n",
        "else:\n",
        "  print(\"Num1 is greter than Num2\")"
      ],
      "metadata": {
        "colab": {
          "base_uri": "https://localhost:8080/"
        },
        "id": "h4bBMPL7s0TZ",
        "outputId": "be1db539-45fe-471e-83c9-72c322c9735f"
      },
      "execution_count": 37,
      "outputs": [
        {
          "output_type": "stream",
          "name": "stdout",
          "text": [
            "Num1 is greter than Num2\n"
          ]
        }
      ]
    },
    {
      "cell_type": "code",
      "source": [
        "num1=10\n",
        "num2=5\n",
        "if(num2>=num1):\n",
        "  print(\"{Num2} is greten than {num1}\".format(Num2=num2,Num1=num1))\n",
        "elif(num1==num2):\n",
        "  print(\"{Num1} is and {num2} is equal \".format(Num1=num1,Num2=num2))\n",
        "else:\n",
        "  print(\"{Num1} is greter than {Num2}\".format(Num1=num1,Num2=num2))"
      ],
      "metadata": {
        "colab": {
          "base_uri": "https://localhost:8080/"
        },
        "id": "MpsXJO5gxB4x",
        "outputId": "e0d2151f-f65d-4c91-f2e5-c24d428defc2"
      },
      "execution_count": 44,
      "outputs": [
        {
          "output_type": "stream",
          "name": "stdout",
          "text": [
            "10 is greter than 5\n"
          ]
        }
      ]
    },
    {
      "cell_type": "code",
      "source": [
        "name=\"COLLEGE FINDER\"\n",
        "website=\"collegefinderIndia.com\"\n",
        "\n",
        "if (name==\"COLLEGE FINDER\"):\n",
        "  if (website==\"collegefinderIndia.com\"):\n",
        "    print(\"You are on the correct website to learn cool things .Enroll now \")\n",
        "else:\n",
        "  print(\"Please check the website again\")"
      ],
      "metadata": {
        "colab": {
          "base_uri": "https://localhost:8080/"
        },
        "id": "k3cPVauh0Gr4",
        "outputId": "23f857d8-5dc6-400c-860d-e218c7ceb825"
      },
      "execution_count": 51,
      "outputs": [
        {
          "output_type": "stream",
          "name": "stdout",
          "text": [
            "You are on the correct website to learn cool things .Enroll now \n"
          ]
        }
      ]
    }
  ]
}