{
  "cells": [
    {
      "cell_type": "markdown",
      "metadata": {
        "id": "view-in-github",
        "colab_type": "text"
      },
      "source": [
        "<a href=\"https://colab.research.google.com/github/Mahesh9383/Mahesh9383/blob/main/LOOPS.ipynb\" target=\"_parent\"><img src=\"https://colab.research.google.com/assets/colab-badge.svg\" alt=\"Open In Colab\"/></a>"
      ]
    },
    {
      "cell_type": "markdown",
      "metadata": {
        "id": "8XLys5aPHZpD"
      },
      "source": [
        "#**For** **loop**"
      ]
    },
    {
      "cell_type": "markdown",
      "metadata": {
        "id": "fwLXX1u3BOpm"
      },
      "source": [
        "#**Rock Paper scissor project using while loop**"
      ]
    },
    {
      "cell_type": "code",
      "execution_count": null,
      "metadata": {
        "colab": {
          "base_uri": "https://localhost:8080/"
        },
        "id": "L1TybT34HiJo",
        "outputId": "588d406c-f64f-4102-d41f-fde0dabfd0d1"
      },
      "outputs": [
        {
          "name": "stdout",
          "output_type": "stream",
          "text": [
            "0\n",
            "1\n"
          ]
        }
      ],
      "source": [
        "list1=[0,1,2,3,4,5]\n",
        "print(list1[0])\n",
        "print(list1[1])"
      ]
    },
    {
      "cell_type": "code",
      "execution_count": null,
      "metadata": {
        "colab": {
          "base_uri": "https://localhost:8080/"
        },
        "id": "HTdRV-CQINKe",
        "outputId": "2728efe0-78c6-499a-d529-bc81f3efef0f"
      },
      "outputs": [
        {
          "name": "stdout",
          "output_type": "stream",
          "text": [
            "0\n",
            "1\n",
            "2\n",
            "3\n",
            "4\n",
            "5\n"
          ]
        }
      ],
      "source": [
        "for i in list1:\n",
        "  print(i)"
      ]
    },
    {
      "cell_type": "code",
      "execution_count": null,
      "metadata": {
        "colab": {
          "base_uri": "https://localhost:8080/"
        },
        "id": "CtQr8xY4Ia3p",
        "outputId": "dd024345-9411-4376-dd55-e248b321ff26"
      },
      "outputs": [
        {
          "name": "stdout",
          "output_type": "stream",
          "text": [
            "0 1 2 3 4 5 "
          ]
        }
      ],
      "source": [
        "for i in list1:        ### iterating over the list functions in a single line\n",
        "  print(i,end=\" \")"
      ]
    },
    {
      "cell_type": "code",
      "execution_count": null,
      "metadata": {
        "colab": {
          "base_uri": "https://localhost:8080/"
        },
        "id": "32AifQjDIwbA",
        "outputId": "4209f9c2-1540-4566-cdfe-9048ad8cd97a"
      },
      "outputs": [
        {
          "name": "stdout",
          "output_type": "stream",
          "text": [
            "COLLEGE\n",
            "FINDER\n",
            "PYTHON\n"
          ]
        }
      ],
      "source": [
        "list2=[\"COLLEGE\" ,\"FINDER\",\"PYTHON\"]    ### iterating over the list of strings   \n",
        "for j in list2:\n",
        "  print(j)"
      ]
    },
    {
      "cell_type": "code",
      "execution_count": null,
      "metadata": {
        "colab": {
          "base_uri": "https://localhost:8080/"
        },
        "id": "OKpO3VgGJpK6",
        "outputId": "4cb42288-eeda-4105-a8ce-fc3b18810792"
      },
      "outputs": [
        {
          "name": "stdout",
          "output_type": "stream",
          "text": [
            "0\n",
            "1\n",
            "2\n",
            "3\n",
            "4\n",
            "5\n"
          ]
        }
      ],
      "source": [
        "for i in range(6):    # tyhe range function\n",
        "  print(i)"
      ]
    },
    {
      "cell_type": "code",
      "execution_count": null,
      "metadata": {
        "colab": {
          "base_uri": "https://localhost:8080/"
        },
        "id": "1yB88VpQJ8Ls",
        "outputId": "5f7dd49e-d917-4e65-e63b-db5359a8b25d"
      },
      "outputs": [
        {
          "name": "stdout",
          "output_type": "stream",
          "text": [
            "0 1 2 3 4 5 6 7 8 9 10 11 12 13 14 15 16 17 18 19 20 21 22 23 24 25 26 27 28 29 30 31 32 33 34 35 36 37 38 39 40 41 42 43 44 45 46 47 48 49 50 51 52 53 54 55 56 57 58 59 60 61 62 63 64 65 66 67 68 69 70 71 72 73 74 75 76 77 78 79 80 81 82 83 84 85 86 87 88 89 90 91 92 93 94 95 96 97 98 99 100 "
          ]
        }
      ],
      "source": [
        "for k in range (0,101):\n",
        "  print(k,end=\" \")"
      ]
    },
    {
      "cell_type": "code",
      "execution_count": null,
      "metadata": {
        "colab": {
          "base_uri": "https://localhost:8080/"
        },
        "id": "ZKpNU876LI9B",
        "outputId": "95ef74d3-acb0-4407-83e3-035d0309e8ac"
      },
      "outputs": [
        {
          "name": "stdout",
          "output_type": "stream",
          "text": [
            "0 2 4 6 8 10 12 14 "
          ]
        }
      ],
      "source": [
        "for l in range (0,15,2):\n",
        "  print(l,end=\" \")"
      ]
    },
    {
      "cell_type": "code",
      "execution_count": null,
      "metadata": {
        "colab": {
          "base_uri": "https://localhost:8080/"
        },
        "id": "UXCoOXdeLcnS",
        "outputId": "3ebe0e54-47e1-4492-b6ea-ec08b78132f9"
      },
      "outputs": [
        {
          "name": "stdout",
          "output_type": "stream",
          "text": [
            "0 3 6 9 12 15 "
          ]
        }
      ],
      "source": [
        "for multiple in range (0,16,3):\n",
        "  print(multiple,end=\" \")"
      ]
    },
    {
      "cell_type": "code",
      "execution_count": null,
      "metadata": {
        "colab": {
          "base_uri": "https://localhost:8080/"
        },
        "id": "m44dQNIPL5tx",
        "outputId": "d3b3592e-dc81-42e0-9489-6a878e8f1c8f"
      },
      "outputs": [
        {
          "name": "stdout",
          "output_type": "stream",
          "text": [
            "2 "
          ]
        }
      ],
      "source": [
        "#### using if condition\n",
        "for q in range (0,50):\n",
        "  if(q/2==1):\n",
        "    print(q,end=\" \")     # breaked the loop\n",
        "  else:\n",
        "    pass"
      ]
    },
    {
      "cell_type": "code",
      "execution_count": null,
      "metadata": {
        "id": "B-Io0z5GM3Ul"
      },
      "outputs": [],
      "source": [
        "### for 1st iteration,q=1,checking 1/2=0.5\n",
        "###for 2nd iteration ,q=2,checking 2/2=1"
      ]
    },
    {
      "cell_type": "code",
      "execution_count": null,
      "metadata": {
        "colab": {
          "base_uri": "https://localhost:8080/"
        },
        "id": "kBfDkYDxNpeo",
        "outputId": "6b6cd43a-4e54-4378-d785-4fce2618c92e"
      },
      "outputs": [
        {
          "name": "stdout",
          "output_type": "stream",
          "text": [
            "The loop is breaked\n"
          ]
        }
      ],
      "source": [
        "### break function\n",
        "for t in range (1,10):\n",
        "  if (t/5==1):\n",
        "    break\n",
        "\n",
        "print(\"The loop is breaked\")"
      ]
    },
    {
      "cell_type": "code",
      "execution_count": null,
      "metadata": {
        "colab": {
          "base_uri": "https://localhost:8080/"
        },
        "id": "maD93j5gOLpR",
        "outputId": "f2dab848-bcab-4c61-fcde-f9c4e67f321f"
      },
      "outputs": [
        {
          "name": "stdout",
          "output_type": "stream",
          "text": [
            "loopList\n"
          ]
        }
      ],
      "source": [
        "### continue \n",
        "list3=[\"a\",\"b\",\"c\",\"d\"]\n",
        "for loopList in list3:\n",
        "  if (\"c\"in loopList):\n",
        "    continue\n",
        "  else:\n",
        "      break\n",
        "print(\"loopList\")"
      ]
    },
    {
      "cell_type": "code",
      "execution_count": null,
      "metadata": {
        "colab": {
          "base_uri": "https://localhost:8080/"
        },
        "id": "FHX1n2czQBli",
        "outputId": "5fd23555-d644-4862-e6e1-2d2ee0b1b30a"
      },
      "outputs": [
        {
          "name": "stdout",
          "output_type": "stream",
          "text": [
            "this is the first element COLLEGE this is the second element  1\n",
            "this is the first element FINDER this is the second element  2\n",
            "this is the first element PYTHON this is the second element  3\n"
          ]
        }
      ],
      "source": [
        "list4=[[\"COLLEGE\",1],[\"FINDER\",2],[\"PYTHON\",3]]\n",
        "for y,z in list4:\n",
        "  print(\"this is the first element\",y,\"this is the second element \",z)"
      ]
    },
    {
      "cell_type": "code",
      "execution_count": null,
      "metadata": {
        "id": "NL3EkqZIRFDa"
      },
      "outputs": [],
      "source": [
        "\n"
      ]
    },
    {
      "cell_type": "markdown",
      "metadata": {
        "id": "p2qJO5qmSDFW"
      },
      "source": [
        "#**While loop**"
      ]
    },
    {
      "cell_type": "code",
      "execution_count": 3,
      "metadata": {
        "colab": {
          "base_uri": "https://localhost:8080/"
        },
        "id": "eqQ5c0WsSMjY",
        "outputId": "2f223058-7516-4032-90b0-ece9a8c9d0c4"
      },
      "outputs": [
        {
          "output_type": "stream",
          "name": "stdout",
          "text": [
            "5\n",
            "6\n",
            "7\n",
            "8\n",
            "9\n",
            "10\n"
          ]
        }
      ],
      "source": [
        "### it will loop till infinite\n",
        "i=5\n",
        "while (i<=10):\n",
        "  print(i)\n",
        "  i=i+1"
      ]
    },
    {
      "cell_type": "code",
      "execution_count": null,
      "metadata": {
        "id": "pwuz-NutTNki"
      },
      "outputs": [],
      "source": [
        "i=5\n",
        "while (i<=10):\n",
        "  print(i)\n",
        "i=i+1"
      ]
    },
    {
      "cell_type": "code",
      "execution_count": null,
      "metadata": {
        "id": "vyDIjgoUTydu"
      },
      "outputs": [],
      "source": [
        ""
      ]
    },
    {
      "cell_type": "markdown",
      "metadata": {
        "id": "z09wPHsgBlD4"
      },
      "source": [
        "#**Rock paper scissor project using while loop**"
      ]
    },
    {
      "cell_type": "code",
      "execution_count": 8,
      "metadata": {
        "colab": {
          "base_uri": "https://localhost:8080/"
        },
        "id": "Vho6w3DzByJu",
        "outputId": "c4b79cd6-cbfd-47b8-cc8c-290a4226d7f7"
      },
      "outputs": [
        {
          "output_type": "stream",
          "name": "stdout",
          "text": [
            "Lets play Rock, Paper, Scisssors\n",
            "Choose between r/p/s [Rock,Paper or scissors]\n",
            "r\n",
            "Choose between r/p/s [Rock,Paper or scissors]\n",
            "r\n",
            "Player1 choose r and Player2 choose r\n",
            "That's a tie\n",
            "Choose between r/p/s [Rock,Paper or scissors]\n",
            "p\n",
            "Choose between r/p/s [Rock,Paper or scissors]\n",
            "s\n",
            "player1 chose p and Player2 choose s\n",
            "Player2 won the game \n",
            "The score of Player p2 is : 1\n",
            "Choose between r/p/s [Rock,Paper or scissors]\n",
            "s\n",
            "Choose between r/p/s [Rock,Paper or scissors]\n",
            "r\n",
            "Player1 choose s and Player2 choose r\n",
            "Player1 won the game\n",
            "The score of Player p1 is : 1\n",
            "Choose between r/p/s [Rock,Paper or scissors]\n",
            "r\n",
            "Choose between r/p/s [Rock,Paper or scissors]\n",
            "p\n",
            "Player1 choose r and Player2 choose p\n",
            "Player2 has won the game\n",
            "The score of Player p2 is :  2\n"
          ]
        }
      ],
      "source": [
        "i=0\n",
        "print(\"Lets play Rock, Paper, Scisssors\")\n",
        "score = []\n",
        "p1 = 0\n",
        "p2 = 0\n",
        "while (i<=3):\n",
        "      ## user input      \n",
        "    Player1=str(input(\"Choose between r/p/s [Rock,Paper or scissors]\\n\"))\n",
        "    Player2=str(input(\"Choose between r/p/s [Rock,Paper or scissors]\\n\"))\n",
        "\n",
        "    ##Logic using conditional checks\n",
        "    if(Player1=='r')and (Player2=='r'):\n",
        "      print(\"Player1 choose {option} and Player2 choose {option2}\".format(option=Player1,option2=Player2))\n",
        "      print(\"That's a tie\")\n",
        "    elif (Player1=='r')and (Player2=='p'):\n",
        "      print(\"Player1 choose {option} and Player2 choose {option2}\".format(option=Player1,option2=Player2))\n",
        "      print(\"Player2 has won the game\")\n",
        "      p2 = p2 + 1\n",
        "      print(\"The score of Player p2 is : \",p2)\n",
        "    elif (Player1=='s')and (Player2=='s'):\n",
        "      print(\"Player1 choose {option} and player2 choose {option2}\".format(option=Player1,option2=Player2))\n",
        "      print(\"Player1 won the game\")\n",
        "      p1 = p1 + 1\n",
        "      print(\"The score of Player p1 is :\", p1) \n",
        "\n",
        "      ###logic using paper \n",
        "    elif (Player1=='p')and (Player2=='r'):\n",
        "      print(\"Player1 choose {option} and Player2 choose {option2}\".format(option=Player1,option2=Player2))\n",
        "      print(\"Player1 won the game \")\n",
        "      p1 = p1 + 1\n",
        "      print(\"The score of Player p1 is :\", p1)\n",
        "    elif (Player1=='p')and (Player2=='p'):\n",
        "      print(\"player1 choose {option} and Player2 chooe {option2}\".format(option=Player1,option2=Player2))\n",
        "      print(\"That's a tie\")\n",
        "    elif(Player1=='p')and (Player2=='s'):\n",
        "      print(\"player1 chose {option} and Player2 choose {option2}\".format(option=Player1,option2=Player2))\n",
        "      print(\"Player2 won the game \")\n",
        "      p2 = p2 + 1\n",
        "      print(\"The score of Player p2 is :\", p2)\n",
        "\n",
        "      ##logic for scissors\n",
        "    elif (Player1=='s')and (Player2=='r'):\n",
        "      print(\"Player1 choose {option} and Player2 choose {option2}\".format(option=Player1,option2=Player2))\n",
        "      print(\"Player1 won the game\")\n",
        "      p1 = p1 + 1\n",
        "      print(\"The score of Player p1 is :\", p1)\n",
        "    elif (Player1=='s')and (Player2=='p'):\n",
        "      print(\"Player1 choose {option} and Playe2r choose {option2}\".format(option=Player1,option2=Player2))\n",
        "      print(\" Player2 won the game\")\n",
        "      p2 = p2 + 1\n",
        "      print(\"The score of Player p2 is :\", p2)\n",
        "    elif(Player1=='s')and (Player2=='s'):\n",
        "      print(\"player1 choose {option}and Player2 choose {option2}\".format(option=player1,option2=player2))\n",
        "      print(\"That's a tie\")\n",
        "      ## logic for error \n",
        "    else:\n",
        "      print(\"Error choose correct option\")\n",
        "    i=i+1\n",
        "\n"
      ]
    },
    {
      "cell_type": "code",
      "execution_count": 11,
      "metadata": {
        "id": "J1EaDSBIOKNW",
        "colab": {
          "base_uri": "https://localhost:8080/"
        },
        "outputId": "bd942fb9-174a-472b-bfe1-1f2f5e988a34"
      },
      "outputs": [
        {
          "output_type": "stream",
          "name": "stdout",
          "text": [
            "guess the number\n",
            "Enter your guess : 7\n",
            "you guessd correct\n"
          ]
        }
      ],
      "source": [
        "### quiz 2.0\n",
        "print(\"guess the number\")\n",
        "secretNum = 7\n",
        "guessCount = 0\n",
        "while (guessCount<7):\n",
        "  guess = int(input(\"Enter your guess : \"))\n",
        "  if (guess <7):\n",
        "    print(\"You  guessed too low \")\n",
        "  elif(guess==7):\n",
        "    print(\"you guessd correct\")\n",
        "    break\n",
        "  else:\n",
        "    print(\"You guessed too high\")\n",
        "    guessCount = guessCount + 1"
      ]
    },
    {
      "cell_type": "code",
      "source": [
        ""
      ],
      "metadata": {
        "id": "lFeIyoXWNRqF"
      },
      "execution_count": null,
      "outputs": []
    },
    {
      "cell_type": "markdown",
      "source": [
        "# **Using while loops print a table till 12**"
      ],
      "metadata": {
        "id": "NgatbOylNVOI"
      }
    },
    {
      "cell_type": "code",
      "source": [
        ""
      ],
      "metadata": {
        "id": "M25sGjn2Nws4"
      },
      "execution_count": null,
      "outputs": []
    }
  ],
  "metadata": {
    "colab": {
      "collapsed_sections": [],
      "name": "LOOPS",
      "provenance": [],
      "authorship_tag": "ABX9TyPqDTbV4PpD0H2lgZ9bTJvQ",
      "include_colab_link": true
    },
    "kernelspec": {
      "display_name": "Python 3",
      "name": "python3"
    },
    "language_info": {
      "name": "python"
    }
  },
  "nbformat": 4,
  "nbformat_minor": 0
}