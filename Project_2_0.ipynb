{
  "nbformat": 4,
  "nbformat_minor": 0,
  "metadata": {
    "colab": {
      "name": "Project.2.0",
      "provenance": [],
      "authorship_tag": "ABX9TyNAf30wTpDMeDrtEaKteTxR",
      "include_colab_link": true
    },
    "kernelspec": {
      "name": "python3",
      "display_name": "Python 3"
    },
    "language_info": {
      "name": "python"
    }
  },
  "cells": [
    {
      "cell_type": "markdown",
      "metadata": {
        "id": "view-in-github",
        "colab_type": "text"
      },
      "source": [
        "<a href=\"https://colab.research.google.com/github/Mahesh9383/Mahesh9383/blob/main/Project_2_0.ipynb\" target=\"_parent\"><img src=\"https://colab.research.google.com/assets/colab-badge.svg\" alt=\"Open In Colab\"/></a>"
      ]
    },
    {
      "cell_type": "markdown",
      "source": [
        "#**Rock,Paper & Scissors**"
      ],
      "metadata": {
        "id": "Q5S6KcW0RErr"
      }
    },
    {
      "cell_type": "code",
      "source": [
        "## user input  \n",
        "print(\"Lets play Rock, Paper, Scisssors\")\n",
        "Player1=str(input(\"Choose between r/p/s[Rock,Paper or scissors]\\n\"))\n",
        "Player2=str(input(\"Choose between r/p/s[Rock,Paper or scissors]\\n\"))\n",
        "\n",
        "##Logic using conditional checks\n",
        "if(Player1=='r')and (Player2=='r'):\n",
        "  print(\"Player1 choose {option} and Player2 choose {option2}\".format(option=player1,option2=player2))\n",
        "  print(\"That's a tie\")\n",
        "elif (Player1=='r')and (Player2=='p'):\n",
        "  print(\"Player1 choose {option} and Player2 choose {option2}\".format(option=player1,option2=player2))\n",
        "  print(\"Player2 has won the game\")\n",
        "elif (Player1=='s')and (Player2=='s'):\n",
        "  print(\"Player1 choose {option} and player2 choose {option2}\".format(option=player1,option2=player2))\n",
        "  print(\"Player1 won the game\")\n",
        "\n",
        "  ###logic using paper \n",
        "elif (Player1=='p')and (Player2=='r'):\n",
        "  print(\"Player1 choose {option} and Player2 choose {option2}\".format(option=player1,option2=player2))\n",
        "  print(\"Player1 won the game \")\n",
        "elif (Player1=='p')and (Player2=='p'):\n",
        "  print(\"player1 choose {option} and Player2 chooe {option2}\".format(option=player1,option2=player2))\n",
        "  print(\"That's a tie\")\n",
        "elif(Player1=='p')and (Player2=='s'):\n",
        "  print(\"player1 chose {option} and Player2 choose {option2}\".format(option=player1,option2=player2))\n",
        "  print(\"Player2 won the game \")\n",
        "\n",
        "  ##logic for scissors\n",
        "elif (Player1=='s')and (Player2=='r'):\n",
        "  print(\"Player1 choose {option} and Player2 choose {option2}\".format(option=player1,option2=player2))\n",
        "  print(\"Player1 won the game\")\n",
        "elif (Player1=='s')and (Player2=='p'):\n",
        "  print(\"Player1 choose {option} and Playe2r choose {option2}\".format(option=player1,option2=player2))\n",
        "  print(\" Player2 won the game\")\n",
        "elif(Player1=='s')and (Player2=='s'):\n",
        "  print(\"player1 choose {option}and Player2 choose {option2}\".format(option=player1,option2=player2))\n",
        "  print(\"That's a tie\")\n",
        "  ## logic for error \n",
        "else:\n",
        "  print(\"Error choose correct option\")"
      ],
      "metadata": {
        "colab": {
          "base_uri": "https://localhost:8080/"
        },
        "id": "By4c_xoPSdAh",
        "outputId": "e8c9bc54-f03c-4c0f-b8ee-7e88dd2491c9"
      },
      "execution_count": 7,
      "outputs": [
        {
          "output_type": "stream",
          "name": "stdout",
          "text": [
            "Lets play Rock, Paper, Scisssors\n",
            "Choose between r/p/s[Rock,Paper or scissors]\n",
            "r\n",
            "Choose between r/p/s[Rock,Paper or scissors]\n",
            "s\n",
            "Error choose correct option\n"
          ]
        }
      ]
    }
  ]
}